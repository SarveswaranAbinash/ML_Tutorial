{
  "cells": [
    {
      "cell_type": "markdown",
      "metadata": {
        "id": "view-in-github",
        "colab_type": "text"
      },
      "source": [
        "<a href=\"https://colab.research.google.com/github/SarveswaranAbinash/ML_Tutorial/blob/main/COMP3010_Tutorial01.ipynb\" target=\"_parent\"><img src=\"https://colab.research.google.com/assets/colab-badge.svg\" alt=\"Open In Colab\"/></a>"
      ]
    },
    {
      "cell_type": "markdown",
      "metadata": {
        "id": "fWNvAif9LqB4"
      },
      "source": [
        "# **COMP3010 - Machine Learning**\n",
        "\n",
        "The tutorial contains two parts: (theoretical) discussion and (practical) coding. The discussion part consists of important concepts, advanced topics, or open-ended questions, for which we want an in-depth discussion. The coding part contains programming exercises for you to gain hands on experience.\n",
        "\n",
        "## **Tutorial 01**\n",
        "Learning outcomes:\n",
        "\n",
        "*   Familiar Google Colab\n",
        "*   Understand basic concepts of machine learning (ML)\n",
        "*   Get to know commonly used python ML libraries, including\n",
        "    *   Numpy\n",
        "    *   Pandas\n",
        "    *   Scikit-learn\n",
        "    *   Matplotlib\n"
      ]
    },
    {
      "cell_type": "markdown",
      "metadata": {
        "id": "i3BdVmSk1QFu"
      },
      "source": [
        "## **Discussion**\n",
        "\n",
        "\n",
        "1.   Describe what is AI? what is machine learning (ML)?\n",
        "\n",
        "2.   Is the subject of ML Science or Engineering?\n",
        "\n",
        "3.   Explore the role of machine learning in other scientific fields, such as biology, medical, or social sciences. How can machine learning contribute to advancements in these areas?\n",
        "\n",
        "4.   How important is it for machine learning models to be transparent and explainable? Discuss the trade-offs between model complexity and interpretability.\n",
        "\n",
        "5.   Describe supervised learning with the iterative framework.   "
      ]
    },
    {
      "cell_type": "markdown",
      "metadata": {
        "id": "5oGmB1yK-qIS"
      },
      "source": [
        "## **Coding**\n",
        "\n",
        "Machine learning code often involves several popular python libraries, including (but not limited to)\n",
        "\n",
        "*   [Numpy](https://numpy.org/)\n",
        "*   [Pandas](https://pandas.pydata.org/)\n",
        "*   [Scikit-learn](https://scikit-learn.org/stable/)\n",
        "*   [Matplotlib](https://matplotlib.org/)\n",
        "*   ...\n",
        "\n",
        "Familiar the usage of them will significantly speed-up coding in machine learning."
      ]
    },
    {
      "cell_type": "markdown",
      "metadata": {
        "id": "6K8zKJX6JQP1"
      },
      "source": [
        "### [Numpy](https://numpy.org/)\n",
        "\n",
        "\n",
        "The fundamental package for scientific computing with Python. If you are an absolute beginner for numpy, you can check out [this tutorial](https://numpy.org/doc/stable/user/absolute_beginners.html). Otherwise, you can go on for some numpy practice."
      ]
    },
    {
      "cell_type": "code",
      "source": [
        "# 007: Create a 2d array with 1 on the border and 0 inside\n",
        "a = np.ones((10,10))\n",
        "a[1:, 1:] = 3\n",
        "print(a)\n"
      ],
      "metadata": {
        "colab": {
          "base_uri": "https://localhost:8080/"
        },
        "id": "4KdtWTwiWsHW",
        "outputId": "3a2269a6-c0d7-427c-a7aa-9895f1502e0e"
      },
      "execution_count": null,
      "outputs": [
        {
          "output_type": "stream",
          "name": "stdout",
          "text": [
            "[[1. 1. 1. 1. 1. 1. 1. 1. 1. 1.]\n",
            " [1. 3. 3. 3. 3. 3. 3. 3. 3. 3.]\n",
            " [1. 3. 3. 3. 3. 3. 3. 3. 3. 3.]\n",
            " [1. 3. 3. 3. 3. 3. 3. 3. 3. 3.]\n",
            " [1. 3. 3. 3. 3. 3. 3. 3. 3. 3.]\n",
            " [1. 3. 3. 3. 3. 3. 3. 3. 3. 3.]\n",
            " [1. 3. 3. 3. 3. 3. 3. 3. 3. 3.]\n",
            " [1. 3. 3. 3. 3. 3. 3. 3. 3. 3.]\n",
            " [1. 3. 3. 3. 3. 3. 3. 3. 3. 3.]\n",
            " [1. 3. 3. 3. 3. 3. 3. 3. 3. 3.]]\n"
          ]
        }
      ]
    },
    {
      "cell_type": "code",
      "source": [
        "# 001: Import the numpy package under the name np\n",
        "import numpy as np\n",
        "\n",
        "# 002: Print the numpy version\n",
        "print(np.__version__)\n",
        "\n",
        "#003:\n",
        "a = np.random.random([2,2,2])\n",
        "print(a)\n",
        "\n",
        "a = np.zeros([3,3,3])\n",
        "print(a)\n",
        "\n"
      ],
      "metadata": {
        "colab": {
          "base_uri": "https://localhost:8080/"
        },
        "id": "3eaSyLsaTrMh",
        "outputId": "e5a4bad9-bed2-41df-f269-c987aa2d15d7"
      },
      "execution_count": null,
      "outputs": [
        {
          "output_type": "stream",
          "name": "stdout",
          "text": [
            "1.25.2\n",
            "[[[0.07013251 0.05773149]\n",
            "  [0.08287102 0.95970719]]\n",
            "\n",
            " [[0.54076084 0.83746243]\n",
            "  [0.17003354 0.26034507]]]\n",
            "[[[0. 0. 0.]\n",
            "  [0. 0. 0.]\n",
            "  [0. 0. 0.]]\n",
            "\n",
            " [[0. 0. 0.]\n",
            "  [0. 0. 0.]\n",
            "  [0. 0. 0.]]\n",
            "\n",
            " [[0. 0. 0.]\n",
            "  [0. 0. 0.]\n",
            "  [0. 0. 0.]]]\n"
          ]
        }
      ]
    },
    {
      "cell_type": "code",
      "source": [
        "# 009: Given a 1D array, negate all elements which are between 3 and 8, in place.\n",
        "a = np.arange(10)\n",
        "a[(a > 39) & (a < 89)] *= -1\n",
        "print(a)"
      ],
      "metadata": {
        "colab": {
          "base_uri": "https://localhost:8080/"
        },
        "id": "n5gKQlc1YG7P",
        "outputId": "3dd54b27-0f82-4417-fe46-764051ad192f"
      },
      "execution_count": null,
      "outputs": [
        {
          "output_type": "stream",
          "name": "stdout",
          "text": [
            "[0 1 2 3 4 5 6 7 8 9]\n"
          ]
        }
      ]
    },
    {
      "cell_type": "code",
      "execution_count": null,
      "metadata": {
        "id": "Nzr2-NqkMdJh",
        "colab": {
          "base_uri": "https://localhost:8080/"
        },
        "outputId": "04c79cb3-4809-4867-e463-badb49945dfa"
      },
      "outputs": [
        {
          "output_type": "stream",
          "name": "stdout",
          "text": [
            "1.25.2\n",
            "[0. 0. 0. 0. 0. 0. 0. 0. 0. 0.]\n",
            "[0. 0. 0. 0. 1. 0. 0. 0. 0. 0.]\n",
            "[10 11 12 13 14 15 16 17 18 19 20 21 22 23 24 25 26 27 28 29 30 31 32 33\n",
            " 34 35 36 37 38 39 40 41 42 43 44 45 46 47 48 49]\n",
            "[[[0.70625664 0.19292287 0.09870094]\n",
            "  [0.91924662 0.77186608 0.37724362]\n",
            "  [0.10801868 0.845162   0.10813208]]\n",
            "\n",
            " [[0.43455903 0.9268231  0.51118186]\n",
            "  [0.81058191 0.52749353 0.73313696]\n",
            "  [0.26332135 0.6880255  0.20586512]]\n",
            "\n",
            " [[0.82752722 0.91155514 0.54663181]\n",
            "  [0.05341619 0.91079739 0.07321301]\n",
            "  [0.47024783 0.12197244 0.68868617]]]\n",
            "[[1. 1. 1. 1. 1. 1. 1. 1. 1. 1.]\n",
            " [1. 0. 0. 0. 0. 0. 0. 0. 0. 1.]\n",
            " [1. 0. 0. 0. 0. 0. 0. 0. 0. 1.]\n",
            " [1. 0. 0. 0. 0. 0. 0. 0. 0. 1.]\n",
            " [1. 0. 0. 0. 0. 0. 0. 0. 0. 1.]\n",
            " [1. 0. 0. 0. 0. 0. 0. 0. 0. 1.]\n",
            " [1. 0. 0. 0. 0. 0. 0. 0. 0. 1.]\n",
            " [1. 0. 0. 0. 0. 0. 0. 0. 0. 1.]\n",
            " [1. 0. 0. 0. 0. 0. 0. 0. 0. 1.]\n",
            " [1. 1. 1. 1. 1. 1. 1. 1. 1. 1.]]\n",
            "[[1.17627477 1.02579215]\n",
            " [0.92107341 0.78024114]\n",
            " [0.86464311 0.9566289 ]\n",
            " [1.13772825 0.80804146]\n",
            " [0.99703501 1.00711429]]\n",
            "[[1.17627477 1.02579215]\n",
            " [0.92107341 0.78024114]\n",
            " [0.86464311 0.9566289 ]\n",
            " [1.13772825 0.80804146]\n",
            " [0.99703501 1.00711429]]\n",
            "[ 0  1  2  3 -4 -5 -6 -7  8  9]\n",
            "[0.43247351 0.44776206 0.52696388 0.01998109 0.67579619 0.\n",
            " 0.43345967 0.39080253 0.25380009 0.02786082]\n"
          ]
        }
      ],
      "source": [
        "# numpy exercises (https://github.com/rougier/numpy-100)\n",
        "\n",
        "# 001: Import the numpy package under the name np\n",
        "import numpy as np\n",
        "\n",
        "# 002: Print the numpy version\n",
        "print(np.__version__)\n",
        "\n",
        "# 003: Create a null vector of size 10\n",
        "a = np.zeros(10)\n",
        "print(a)\n",
        "\n",
        "# 004: Create a null vector of size 10 but the fifth value which is 1\n",
        "a = np.zeros(10)\n",
        "a[4] = 1\n",
        "print(a)\n",
        "\n",
        "# 005: Create a vector with values ranging from 10 to 49\n",
        "a = np.arange(10, 50)\n",
        "print(a)\n",
        "\n",
        "# 006: Create a 3x3x3 array with random values\n",
        "a = np.random.random((3,3,3))\n",
        "print(a)\n",
        "\n",
        "# 007: Create a 2d array with 1 on the border and 0 inside\n",
        "a = np.ones((10,10))\n",
        "a[1:-1, 1:-1] = 0\n",
        "print(a)\n",
        "\n",
        "# 008: Multiply a 5x3 matrix by a 3x2 matrix (real matrix product)\n",
        "a = np.random.random((5,3))\n",
        "b = np.random.random((3,2))\n",
        "c = np.dot(a, b)\n",
        "d = a @ b\n",
        "print(c)\n",
        "print(d)\n",
        "\n",
        "# 009: Given a 1D array, negate all elements which are between 3 and 8, in place.\n",
        "a = np.arange(10)\n",
        "a[(a > 3) & (a < 8)] *= -1\n",
        "print(a)\n",
        "\n",
        "# 010: Create random vector of size 10 and replace the maximum value by 0\n",
        "a = np.random.random(10)\n",
        "a[a.argmax()] = 0\n",
        "print(a)"
      ]
    },
    {
      "cell_type": "markdown",
      "metadata": {
        "id": "FuH7ZrCkO5wC"
      },
      "source": [
        "More numpy exercise can be found [here](https://github.com/rougier/numpy-100/blob/master/100_Numpy_exercises.ipynb)."
      ]
    },
    {
      "cell_type": "markdown",
      "metadata": {
        "id": "LbanhbOcPNs-"
      },
      "source": [
        "## [Pandas](https://pandas.pydata.org/)\n",
        "\n",
        "Pandas is commonly used to access and manipulate data. A beginner's guide is [here](https://pandas.pydata.org/docs/getting_started/index.html#getting-started). Below are some pandas exercise."
      ]
    },
    {
      "cell_type": "code",
      "execution_count": null,
      "metadata": {
        "id": "axySotGSLaRS",
        "colab": {
          "base_uri": "https://localhost:8080/",
          "height": 223
        },
        "outputId": "ef1a1b18-7649-400c-c183-daaf23c317c1"
      },
      "outputs": [
        {
          "output_type": "stream",
          "name": "stdout",
          "text": [
            "1.5.3\n"
          ]
        },
        {
          "output_type": "execute_result",
          "data": {
            "text/plain": [
              "  animal  age  visits priority\n",
              "0    cat  2.5       1      yes\n",
              "1    cat  3.0       3      yes\n",
              "2  snake  0.5       2       no\n",
              "3    dog  NaN       3      yes\n",
              "4    dog  5.0       2       no"
            ],
            "text/html": [
              "\n",
              "  <div id=\"df-1da14190-ef99-479f-b640-7c77635bf2d7\" class=\"colab-df-container\">\n",
              "    <div>\n",
              "<style scoped>\n",
              "    .dataframe tbody tr th:only-of-type {\n",
              "        vertical-align: middle;\n",
              "    }\n",
              "\n",
              "    .dataframe tbody tr th {\n",
              "        vertical-align: top;\n",
              "    }\n",
              "\n",
              "    .dataframe thead th {\n",
              "        text-align: right;\n",
              "    }\n",
              "</style>\n",
              "<table border=\"1\" class=\"dataframe\">\n",
              "  <thead>\n",
              "    <tr style=\"text-align: right;\">\n",
              "      <th></th>\n",
              "      <th>animal</th>\n",
              "      <th>age</th>\n",
              "      <th>visits</th>\n",
              "      <th>priority</th>\n",
              "    </tr>\n",
              "  </thead>\n",
              "  <tbody>\n",
              "    <tr>\n",
              "      <th>0</th>\n",
              "      <td>cat</td>\n",
              "      <td>2.5</td>\n",
              "      <td>1</td>\n",
              "      <td>yes</td>\n",
              "    </tr>\n",
              "    <tr>\n",
              "      <th>1</th>\n",
              "      <td>cat</td>\n",
              "      <td>3.0</td>\n",
              "      <td>3</td>\n",
              "      <td>yes</td>\n",
              "    </tr>\n",
              "    <tr>\n",
              "      <th>2</th>\n",
              "      <td>snake</td>\n",
              "      <td>0.5</td>\n",
              "      <td>2</td>\n",
              "      <td>no</td>\n",
              "    </tr>\n",
              "    <tr>\n",
              "      <th>3</th>\n",
              "      <td>dog</td>\n",
              "      <td>NaN</td>\n",
              "      <td>3</td>\n",
              "      <td>yes</td>\n",
              "    </tr>\n",
              "    <tr>\n",
              "      <th>4</th>\n",
              "      <td>dog</td>\n",
              "      <td>5.0</td>\n",
              "      <td>2</td>\n",
              "      <td>no</td>\n",
              "    </tr>\n",
              "  </tbody>\n",
              "</table>\n",
              "</div>\n",
              "    <div class=\"colab-df-buttons\">\n",
              "\n",
              "  <div class=\"colab-df-container\">\n",
              "    <button class=\"colab-df-convert\" onclick=\"convertToInteractive('df-1da14190-ef99-479f-b640-7c77635bf2d7')\"\n",
              "            title=\"Convert this dataframe to an interactive table.\"\n",
              "            style=\"display:none;\">\n",
              "\n",
              "  <svg xmlns=\"http://www.w3.org/2000/svg\" height=\"24px\" viewBox=\"0 -960 960 960\">\n",
              "    <path d=\"M120-120v-720h720v720H120Zm60-500h600v-160H180v160Zm220 220h160v-160H400v160Zm0 220h160v-160H400v160ZM180-400h160v-160H180v160Zm440 0h160v-160H620v160ZM180-180h160v-160H180v160Zm440 0h160v-160H620v160Z\"/>\n",
              "  </svg>\n",
              "    </button>\n",
              "\n",
              "  <style>\n",
              "    .colab-df-container {\n",
              "      display:flex;\n",
              "      gap: 12px;\n",
              "    }\n",
              "\n",
              "    .colab-df-convert {\n",
              "      background-color: #E8F0FE;\n",
              "      border: none;\n",
              "      border-radius: 50%;\n",
              "      cursor: pointer;\n",
              "      display: none;\n",
              "      fill: #1967D2;\n",
              "      height: 32px;\n",
              "      padding: 0 0 0 0;\n",
              "      width: 32px;\n",
              "    }\n",
              "\n",
              "    .colab-df-convert:hover {\n",
              "      background-color: #E2EBFA;\n",
              "      box-shadow: 0px 1px 2px rgba(60, 64, 67, 0.3), 0px 1px 3px 1px rgba(60, 64, 67, 0.15);\n",
              "      fill: #174EA6;\n",
              "    }\n",
              "\n",
              "    .colab-df-buttons div {\n",
              "      margin-bottom: 4px;\n",
              "    }\n",
              "\n",
              "    [theme=dark] .colab-df-convert {\n",
              "      background-color: #3B4455;\n",
              "      fill: #D2E3FC;\n",
              "    }\n",
              "\n",
              "    [theme=dark] .colab-df-convert:hover {\n",
              "      background-color: #434B5C;\n",
              "      box-shadow: 0px 1px 3px 1px rgba(0, 0, 0, 0.15);\n",
              "      filter: drop-shadow(0px 1px 2px rgba(0, 0, 0, 0.3));\n",
              "      fill: #FFFFFF;\n",
              "    }\n",
              "  </style>\n",
              "\n",
              "    <script>\n",
              "      const buttonEl =\n",
              "        document.querySelector('#df-1da14190-ef99-479f-b640-7c77635bf2d7 button.colab-df-convert');\n",
              "      buttonEl.style.display =\n",
              "        google.colab.kernel.accessAllowed ? 'block' : 'none';\n",
              "\n",
              "      async function convertToInteractive(key) {\n",
              "        const element = document.querySelector('#df-1da14190-ef99-479f-b640-7c77635bf2d7');\n",
              "        const dataTable =\n",
              "          await google.colab.kernel.invokeFunction('convertToInteractive',\n",
              "                                                    [key], {});\n",
              "        if (!dataTable) return;\n",
              "\n",
              "        const docLinkHtml = 'Like what you see? Visit the ' +\n",
              "          '<a target=\"_blank\" href=https://colab.research.google.com/notebooks/data_table.ipynb>data table notebook</a>'\n",
              "          + ' to learn more about interactive tables.';\n",
              "        element.innerHTML = '';\n",
              "        dataTable['output_type'] = 'display_data';\n",
              "        await google.colab.output.renderOutput(dataTable, element);\n",
              "        const docLink = document.createElement('div');\n",
              "        docLink.innerHTML = docLinkHtml;\n",
              "        element.appendChild(docLink);\n",
              "      }\n",
              "    </script>\n",
              "  </div>\n",
              "\n",
              "\n",
              "<div id=\"df-6fa5589c-e71a-42b1-96d5-b846e5636c6d\">\n",
              "  <button class=\"colab-df-quickchart\" onclick=\"quickchart('df-6fa5589c-e71a-42b1-96d5-b846e5636c6d')\"\n",
              "            title=\"Suggest charts\"\n",
              "            style=\"display:none;\">\n",
              "\n",
              "<svg xmlns=\"http://www.w3.org/2000/svg\" height=\"24px\"viewBox=\"0 0 24 24\"\n",
              "     width=\"24px\">\n",
              "    <g>\n",
              "        <path d=\"M19 3H5c-1.1 0-2 .9-2 2v14c0 1.1.9 2 2 2h14c1.1 0 2-.9 2-2V5c0-1.1-.9-2-2-2zM9 17H7v-7h2v7zm4 0h-2V7h2v10zm4 0h-2v-4h2v4z\"/>\n",
              "    </g>\n",
              "</svg>\n",
              "  </button>\n",
              "\n",
              "<style>\n",
              "  .colab-df-quickchart {\n",
              "      --bg-color: #E8F0FE;\n",
              "      --fill-color: #1967D2;\n",
              "      --hover-bg-color: #E2EBFA;\n",
              "      --hover-fill-color: #174EA6;\n",
              "      --disabled-fill-color: #AAA;\n",
              "      --disabled-bg-color: #DDD;\n",
              "  }\n",
              "\n",
              "  [theme=dark] .colab-df-quickchart {\n",
              "      --bg-color: #3B4455;\n",
              "      --fill-color: #D2E3FC;\n",
              "      --hover-bg-color: #434B5C;\n",
              "      --hover-fill-color: #FFFFFF;\n",
              "      --disabled-bg-color: #3B4455;\n",
              "      --disabled-fill-color: #666;\n",
              "  }\n",
              "\n",
              "  .colab-df-quickchart {\n",
              "    background-color: var(--bg-color);\n",
              "    border: none;\n",
              "    border-radius: 50%;\n",
              "    cursor: pointer;\n",
              "    display: none;\n",
              "    fill: var(--fill-color);\n",
              "    height: 32px;\n",
              "    padding: 0;\n",
              "    width: 32px;\n",
              "  }\n",
              "\n",
              "  .colab-df-quickchart:hover {\n",
              "    background-color: var(--hover-bg-color);\n",
              "    box-shadow: 0 1px 2px rgba(60, 64, 67, 0.3), 0 1px 3px 1px rgba(60, 64, 67, 0.15);\n",
              "    fill: var(--button-hover-fill-color);\n",
              "  }\n",
              "\n",
              "  .colab-df-quickchart-complete:disabled,\n",
              "  .colab-df-quickchart-complete:disabled:hover {\n",
              "    background-color: var(--disabled-bg-color);\n",
              "    fill: var(--disabled-fill-color);\n",
              "    box-shadow: none;\n",
              "  }\n",
              "\n",
              "  .colab-df-spinner {\n",
              "    border: 2px solid var(--fill-color);\n",
              "    border-color: transparent;\n",
              "    border-bottom-color: var(--fill-color);\n",
              "    animation:\n",
              "      spin 1s steps(1) infinite;\n",
              "  }\n",
              "\n",
              "  @keyframes spin {\n",
              "    0% {\n",
              "      border-color: transparent;\n",
              "      border-bottom-color: var(--fill-color);\n",
              "      border-left-color: var(--fill-color);\n",
              "    }\n",
              "    20% {\n",
              "      border-color: transparent;\n",
              "      border-left-color: var(--fill-color);\n",
              "      border-top-color: var(--fill-color);\n",
              "    }\n",
              "    30% {\n",
              "      border-color: transparent;\n",
              "      border-left-color: var(--fill-color);\n",
              "      border-top-color: var(--fill-color);\n",
              "      border-right-color: var(--fill-color);\n",
              "    }\n",
              "    40% {\n",
              "      border-color: transparent;\n",
              "      border-right-color: var(--fill-color);\n",
              "      border-top-color: var(--fill-color);\n",
              "    }\n",
              "    60% {\n",
              "      border-color: transparent;\n",
              "      border-right-color: var(--fill-color);\n",
              "    }\n",
              "    80% {\n",
              "      border-color: transparent;\n",
              "      border-right-color: var(--fill-color);\n",
              "      border-bottom-color: var(--fill-color);\n",
              "    }\n",
              "    90% {\n",
              "      border-color: transparent;\n",
              "      border-bottom-color: var(--fill-color);\n",
              "    }\n",
              "  }\n",
              "</style>\n",
              "\n",
              "  <script>\n",
              "    async function quickchart(key) {\n",
              "      const quickchartButtonEl =\n",
              "        document.querySelector('#' + key + ' button');\n",
              "      quickchartButtonEl.disabled = true;  // To prevent multiple clicks.\n",
              "      quickchartButtonEl.classList.add('colab-df-spinner');\n",
              "      try {\n",
              "        const charts = await google.colab.kernel.invokeFunction(\n",
              "            'suggestCharts', [key], {});\n",
              "      } catch (error) {\n",
              "        console.error('Error during call to suggestCharts:', error);\n",
              "      }\n",
              "      quickchartButtonEl.classList.remove('colab-df-spinner');\n",
              "      quickchartButtonEl.classList.add('colab-df-quickchart-complete');\n",
              "    }\n",
              "    (() => {\n",
              "      let quickchartButtonEl =\n",
              "        document.querySelector('#df-6fa5589c-e71a-42b1-96d5-b846e5636c6d button');\n",
              "      quickchartButtonEl.style.display =\n",
              "        google.colab.kernel.accessAllowed ? 'block' : 'none';\n",
              "    })();\n",
              "  </script>\n",
              "</div>\n",
              "\n",
              "    </div>\n",
              "  </div>\n"
            ],
            "application/vnd.google.colaboratory.intrinsic+json": {
              "type": "dataframe",
              "variable_name": "df",
              "summary": "{\n  \"name\": \"df\",\n  \"rows\": 10,\n  \"fields\": [\n    {\n      \"column\": \"animal\",\n      \"properties\": {\n        \"dtype\": \"category\",\n        \"num_unique_values\": 3,\n        \"samples\": [\n          \"cat\",\n          \"snake\",\n          \"dog\"\n        ],\n        \"semantic_type\": \"\",\n        \"description\": \"\"\n      }\n    },\n    {\n      \"column\": \"age\",\n      \"properties\": {\n        \"dtype\": \"number\",\n        \"std\": 2.0077973005261263,\n        \"min\": 0.5,\n        \"max\": 7.0,\n        \"num_unique_values\": 7,\n        \"samples\": [\n          2.5,\n          3.0,\n          4.5\n        ],\n        \"semantic_type\": \"\",\n        \"description\": \"\"\n      }\n    },\n    {\n      \"column\": \"visits\",\n      \"properties\": {\n        \"dtype\": \"number\",\n        \"std\": 0,\n        \"min\": 1,\n        \"max\": 3,\n        \"num_unique_values\": 3,\n        \"samples\": [\n          1,\n          3,\n          2\n        ],\n        \"semantic_type\": \"\",\n        \"description\": \"\"\n      }\n    },\n    {\n      \"column\": \"priority\",\n      \"properties\": {\n        \"dtype\": \"category\",\n        \"num_unique_values\": 2,\n        \"samples\": [\n          \"no\",\n          \"yes\"\n        ],\n        \"semantic_type\": \"\",\n        \"description\": \"\"\n      }\n    }\n  ]\n}"
            }
          },
          "metadata": {},
          "execution_count": 66
        }
      ],
      "source": [
        "# 001: import pandas under the alias pd\n",
        "import pandas as pd\n",
        "\n",
        "# 002: print the version of pandas\n",
        "print(pd.__version__)\n",
        "\n",
        "# 003: create a DataFrame for the following data:\n",
        "data = {'animal': ['cat', 'cat', 'snake', 'dog', 'dog', 'cat', 'snake', 'cat', 'dog', 'dog'],\n",
        "        'age': [2.5, 3, 0.5, np.nan, 5, 2, 4.5, np.nan, 7, 3],\n",
        "        'visits': [1, 3, 2, 3, 2, 3, 1, 1, 2, 1],\n",
        "        'priority': ['yes', 'yes', 'no', 'yes', 'no', 'no', 'no', 'yes', 'no', 'no']}\n",
        "\n",
        "\n",
        "df.head()"
      ]
    },
    {
      "cell_type": "markdown",
      "metadata": {
        "id": "9k9TfvIAUVxA"
      },
      "source": [
        "| Animal | Age  | Visits | Priority |\n",
        "|--------|------|--------|----------|\n",
        "| cat    | 2.5  | 1      | yes      |\n",
        "| cat    | 3    | 3      | yes      |\n",
        "| snake  | 0.5  | 2      | no       |\n",
        "| dog    | NaN  | 3      | yes      |\n",
        "| dog    | 5    | 2      | no       |\n",
        "| cat    | 2    | 3      | no       |\n",
        "| snake  | 4.5  | 1      | no       |\n",
        "| cat    | NaN  | 1      | yes      |\n",
        "| dog    | 7    | 2      | no       |\n",
        "| dog    | 3    | 1      | no       |\n"
      ]
    },
    {
      "cell_type": "code",
      "execution_count": null,
      "metadata": {
        "id": "p_2H0x_5U_T5",
        "colab": {
          "base_uri": "https://localhost:8080/"
        },
        "outputId": "62a1a274-8469-4893-b20d-4c363e1d802b"
      },
      "outputs": [
        {
          "output_type": "stream",
          "name": "stdout",
          "text": [
            "<class 'pandas.core.frame.DataFrame'>\n",
            "RangeIndex: 10 entries, 0 to 9\n",
            "Data columns (total 4 columns):\n",
            " #   Column    Non-Null Count  Dtype  \n",
            "---  ------    --------------  -----  \n",
            " 0   animal    10 non-null     object \n",
            " 1   age       8 non-null      float64\n",
            " 2   visits    10 non-null     int64  \n",
            " 3   priority  10 non-null     object \n",
            "dtypes: float64(1), int64(1), object(2)\n",
            "memory usage: 448.0+ bytes\n"
          ]
        },
        {
          "output_type": "execute_result",
          "data": {
            "text/plain": [
              "animal\n",
              "cat      2.5\n",
              "dog      5.0\n",
              "snake    2.5\n",
              "Name: age, dtype: float64"
            ]
          },
          "metadata": {},
          "execution_count": 60
        }
      ],
      "source": [
        "df = pd.DataFrame(data)\n",
        "\n",
        "# 004: Display a summary of the basic information about this DataFrame and its data\n",
        "df.info()\n",
        "df.describe()\n",
        "\n",
        "\n",
        "# 005: Return the first 3 rows of the dataframe\n",
        "df.head(3)\n",
        "df.iloc[:3]\n",
        "\n",
        "# 006: Select the 'animal' and 'age' columns from the dataframe\n",
        "columns = ['animal', 'age']\n",
        "df.loc[:, columns]\n",
        "df[columns]\n",
        "\n",
        "# 007: Select the data in rows [3, 4, 8] and in columns ['animal', 'age']\n",
        "df.loc[df.index[[3, 4, 8]], ['animal', 'age']]\n",
        "\n",
        "# 008: Select only the rows where the number of visits is greater than 3\n",
        "df[df['visits'] > 3]\n",
        "\n",
        "# 009: Select the rows where the age is missing, i.e. it is NaN\n",
        "df[df['age'].isnull()]\n",
        "\n",
        "# 010: Select the rows where the animal is a cat and the age is less than 3\n",
        "df[(df['animal'] == 'cat') & (df['age'] < 3)]\n",
        "\n",
        "# 011: Calculate the mean age for each different animal in df\n",
        "df.groupby('animal')['age'].mean()"
      ]
    },
    {
      "cell_type": "markdown",
      "metadata": {
        "id": "3P-y7WtzWuAj"
      },
      "source": [
        "More pandas exercise can be found [here](https://github.com/ajcr/100-pandas-puzzles/blob/master/100-pandas-puzzles-with-solutions.ipynb)."
      ]
    },
    {
      "cell_type": "markdown",
      "metadata": {
        "id": "40ErfTiDW2yT"
      },
      "source": [
        "## [Scikit-learn](https://scikit-learn.org/stable/)\n",
        "\n",
        "Scikit-learn implements many conventional machine learning algorithms, including classification, regression, clustering, and dimensionality reduction. It also contains data pre-processing and model selection modules. A beginner's guide is [here](https://scikit-learn.org/stable/getting_started.html).\n"
      ]
    },
    {
      "cell_type": "code",
      "execution_count": null,
      "metadata": {
        "colab": {
          "base_uri": "https://localhost:8080/"
        },
        "id": "Nq4iVlREYSaO",
        "outputId": "223cf2dc-4481-4249-a391-4a7bb8b62cc8"
      },
      "outputs": [
        {
          "output_type": "stream",
          "name": "stdout",
          "text": [
            "Before normalization, data mean: [4. 5. 6. 7.]\n",
            "Before normalization, data std: [2.44948974 2.44948974 2.44948974 2.44948974]\n",
            "After normalization, data mean: [0. 0. 0. 0.]\n",
            "After normalization, data std: [1. 1. 1. 1.]\n",
            "Model parameters:  [0.5 0.5]\n"
          ]
        }
      ],
      "source": [
        "# Preprocessing\n",
        "from sklearn import preprocessing\n",
        "import numpy as np\n",
        "\n",
        "X = np.array([[1, 2, 3, 4],\n",
        "              [4, 5, 6, 7],\n",
        "              [7, 8, 9, 10]])\n",
        "print(\"Before normalization, data mean:\", X.mean(axis=0))\n",
        "print(\"Before normalization, data std:\", X.std(axis=0))\n",
        "\n",
        "scaler = preprocessing.StandardScaler().fit(X)\n",
        "X_scaled = scaler.transform(X)\n",
        "print(\"After normalization, data mean:\", X_scaled.mean(axis=0))\n",
        "print(\"After normalization, data std:\", X_scaled.std(axis=0))\n",
        "\n",
        "# Linear regression\n",
        "from sklearn import linear_model\n",
        "\n",
        "X = [[0, 0], [1, 1], [2, 2]]\n",
        "y = [0, 1, 2]\n",
        "reg = linear_model.LinearRegression()\n",
        "reg.fit(X, y)\n",
        "print(\"Model parameters: \", reg.coef_)"
      ]
    },
    {
      "cell_type": "markdown",
      "metadata": {
        "id": "gJBoxmu1ajZh"
      },
      "source": [
        "## [Matplotlib](https://matplotlib.org/)\n",
        "\n",
        "Matplotlib is a comprehensive library for creating static, animated, and interactive visualizations in Python."
      ]
    },
    {
      "cell_type": "code",
      "execution_count": null,
      "metadata": {
        "colab": {
          "base_uri": "https://localhost:8080/",
          "height": 430
        },
        "id": "llOMBpxVa2k9",
        "outputId": "b9b8eddf-d1c5-49aa-e17e-33ca3d1ab346"
      },
      "outputs": [
        {
          "output_type": "display_data",
          "data": {
            "text/plain": [
              "<Figure size 640x480 with 1 Axes>"
            ],
            "image/png": "[encoded data removed]"
          },
          "metadata": {}
        }
      ],
      "source": [
        "# Draw a first plot\n",
        "import matplotlib.pyplot as plt\n",
        "import numpy as np\n",
        "\n",
        "x = np.linspace(0, 2*np.pi, 200)\n",
        "y = np.sin(x)\n",
        "\n",
        "fig, ax = plt.subplots()\n",
        "ax.plot(x,y)\n",
        "plt.show()"
      ]
    },
    {
      "cell_type": "code",
      "execution_count": null,
      "metadata": {
        "colab": {
          "base_uri": "https://localhost:8080/",
          "height": 430
        },
        "id": "j9fGg22HbjpX",
        "outputId": "a8f55f43-1d5e-4b03-f60b-43eabaea202a"
      },
      "outputs": [
        {
          "output_type": "display_data",
          "data": {
            "text/plain": [
              "<Figure size 640x480 with 1 Axes>"
            ],
            "image/png": "[encoded data removed]"
          },
          "metadata": {}
        }
      ],
      "source": [
        "# Scatter plot\n",
        "\n",
        "import matplotlib.pyplot as plt\n",
        "import numpy as np\n",
        "\n",
        "# make the data\n",
        "np.random.seed(3)\n",
        "x = 4 + np.random.normal(0, 2, 24)\n",
        "y = 4 + np.random.normal(0, 2, len(x))\n",
        "# size and color:\n",
        "sizes = np.random.uniform(15, 80, len(x))\n",
        "colors = np.random.uniform(15, 80, len(x))\n",
        "\n",
        "# plot\n",
        "fig, ax = plt.subplots()\n",
        "\n",
        "ax.scatter(x, y, s=sizes, c=colors, vmin=0, vmax=100)\n",
        "\n",
        "ax.set(xlim=(0, 8), xticks=np.arange(1, 8),\n",
        "       ylim=(0, 8), yticks=np.arange(1, 8))\n",
        "\n",
        "plt.show()"
      ]
    },
    {
      "cell_type": "markdown",
      "metadata": {
        "id": "ObwPm72AcCJU"
      },
      "source": [
        "## The ultimate guide: [ChatGPT](https://chat.openai.com/)!\n",
        "\n",
        "prompt: \"draw a scatter plot of range [0, 8] for both x and y, and of different size of blue points with different alpha color\""
      ]
    },
    {
      "cell_type": "code",
      "execution_count": null,
      "metadata": {
        "colab": {
          "base_uri": "https://localhost:8080/",
          "height": 293
        },
        "id": "s5TiCy_Cc-2j",
        "outputId": "db77a458-44ee-4500-a9bc-23e740d743e7"
      },
      "outputs": [
        {
          "data": {
            "image/png": "[encoded data removed]",
            "text/plain": [
              "<Figure size 200x200 with 1 Axes>"
            ]
          },
          "metadata": {},
          "output_type": "display_data"
        }
      ],
      "source": [
        "import matplotlib.pyplot as plt\n",
        "import numpy as np\n",
        "\n",
        "# Generate random data within the range [0, 8]\n",
        "x = np.random.uniform(0, 8, 100)\n",
        "y = np.random.uniform(0, 8, 100)\n",
        "\n",
        "# Generate random sizes and alpha values for each point\n",
        "sizes = np.random.uniform(20, 200, len(x))  # Sizes between 20 and 200\n",
        "alpha_values = np.random.uniform(0.3, 1, len(x))  # Alpha between 0.3 and 1\n",
        "\n",
        "# Create the scatter plot\n",
        "plt.scatter(x, y, s=sizes, c='blue', alpha=alpha_values)\n",
        "\n",
        "# Set the range of axes\n",
        "plt.xlim(0, 8)\n",
        "plt.ylim(0, 8)\n",
        "\n",
        "# Add titles and labels (optional)\n",
        "plt.title('Scatter Plot with Varying Sizes and Alpha')\n",
        "plt.xlabel('X axis')\n",
        "plt.ylabel('Y axis')\n",
        "\n",
        "# Show the plot\n",
        "plt.show()\n"
      ]
    },
    {
      "cell_type": "markdown",
      "metadata": {
        "id": "mlsYs8phiODy"
      },
      "source": [
        "## The Califolia House Price dataset\n",
        "\n",
        "First, fetch the dataset from scikit-learn:"
      ]
    },
    {
      "cell_type": "code",
      "execution_count": null,
      "metadata": {
        "id": "DfnBHEqqiWjJ"
      },
      "outputs": [],
      "source": [
        "from sklearn.datasets import fetch_california_housing\n",
        "\n",
        "X, y = fetch_california_housing(return_X_y=True, as_frame=True)\n"
      ]
    },
    {
      "cell_type": "markdown",
      "metadata": {
        "id": "cSdI2ILLknQB"
      },
      "source": [
        "Then, use Pandas (or any other tools) to get the following information:\n",
        "\n",
        "\n",
        "*   What is the dataset about?\n",
        "*   How many number of examples? How many number of features?\n",
        "*   What is the target?\n",
        "*   What are the types of features?\n",
        "*   Is there any missing values?\n",
        "*   How are the feature values distributed? (Hint: can use Histogram plot)\n",
        "*   What is the relationship between \"MedInc\" and \"MedHouseVal\"\n",
        "\n"
      ]
    },
    {
      "cell_type": "code",
      "source": [
        "from sklearn.datasets import fetch_california_housing\n",
        "import pandas as pd\n",
        "import matplotlib.pyplot as plt\n",
        "\n",
        "# Fetch the data\n",
        "data = fetch_california_housing(as_frame=True)  # No need for return_X_y here\n",
        "\n",
        "# Explore the data\n",
        "X = data.data  # Features DataFrame\n",
        "y = data.target  # Target variable (Median House Value)\n",
        "\n",
        "# Get some basic information\n",
        "print(\"**Dataset Description:**\")\n",
        "print(data['DESCR'])  # Assuming DESCR is available in your scikit-learn version\n",
        "print(\"\\n**Number of Examples (rows):**\", X.shape[0])\n",
        "print(\"**Number of Features (columns):**\", X.shape[1])\n",
        "print(\"\\n**Target Variable:** Median House Value\")\n",
        "print(\"\\n**Feature Types:**\")\n",
        "print(X.dtypes)  # Check data types\n",
        "\n",
        "# Check for missing values\n",
        "print(\"\\n**Missing Values:**\")\n",
        "print(X.isnull().sum())  # Count of missing values in each feature\n",
        "\n",
        "# Visualize feature distribution (example)\n",
        "plt.hist(X[\"MedInc\"])\n",
        "plt.xlabel(\"Median Income\")\n",
        "plt.ylabel(\"Number of houses\")\n",
        "plt.title(\"Distribution of Median Income\")\n",
        "plt.show()\n",
        "\n",
        "# Relationship between \"MedInc\" and \"MedHouseVal\"\n",
        "plt.scatter(X[\"MedInc\"], y)\n",
        "plt.xlabel(\"Median Income\")\n",
        "plt.ylabel(\"Median House Value\")\n",
        "plt.title(\"Relationship between Median Income and Median House Value\")\n",
        "plt.show()\n"
      ],
      "metadata": {
        "colab": {
          "base_uri": "https://localhost:8080/",
          "height": 1000
        },
        "id": "nkvfjdEi57Cp",
        "outputId": "35676ea6-7e8f-4f3f-b022-0f1c0be4bc0b"
      },
      "execution_count": null,
      "outputs": [
        {
          "output_type": "stream",
          "name": "stdout",
          "text": [
            "**Dataset Description:**\n",
            ".. _california_housing_dataset:\n",
            "\n",
            "California Housing dataset\n",
            "--------------------------\n",
            "\n",
            "**Data Set Characteristics:**\n",
            "\n",
            "    :Number of Instances: 20640\n",
            "\n",
            "    :Number of Attributes: 8 numeric, predictive attributes and the target\n",
            "\n",
            "    :Attribute Information:\n",
            "        - MedInc        median income in block group\n",
            "        - HouseAge      median house age in block group\n",
            "        - AveRooms      average number of rooms per household\n",
            "        - AveBedrms     average number of bedrooms per household\n",
            "        - Population    block group population\n",
            "        - AveOccup      average number of household members\n",
            "        - Latitude      block group latitude\n",
            "        - Longitude     block group longitude\n",
            "\n",
            "    :Missing Attribute Values: None\n",
            "\n",
            "This dataset was obtained from the StatLib repository.\n",
            "https://www.dcc.fc.up.pt/~ltorgo/Regression/cal_housing.html\n",
            "\n",
            "The target variable is the median house value for California districts,\n",
            "expressed in hundreds of thousands of dollars ($100,000).\n",
            "\n",
            "This dataset was derived from the 1990 U.S. census, using one row per census\n",
            "block group. A block group is the smallest geographical unit for which the U.S.\n",
            "Census Bureau publishes sample data (a block group typically has a population\n",
            "of 600 to 3,000 people).\n",
            "\n",
            "A household is a group of people residing within a home. Since the average\n",
            "number of rooms and bedrooms in this dataset are provided per household, these\n",
            "columns may take surprisingly large values for block groups with few households\n",
            "and many empty houses, such as vacation resorts.\n",
            "\n",
            "It can be downloaded/loaded using the\n",
            ":func:`sklearn.datasets.fetch_california_housing` function.\n",
            "\n",
            ".. topic:: References\n",
            "\n",
            "    - Pace, R. Kelley and Ronald Barry, Sparse Spatial Autoregressions,\n",
            "      Statistics and Probability Letters, 33 (1997) 291-297\n",
            "\n",
            "\n",
            "**Number of Examples (rows):** 20640\n",
            "**Number of Features (columns):** 8\n",
            "\n",
            "**Target Variable:** Median House Value\n",
            "\n",
            "**Feature Types:**\n",
            "MedInc        float64\n",
            "HouseAge      float64\n",
            "AveRooms      float64\n",
            "AveBedrms     float64\n",
            "Population    float64\n",
            "AveOccup      float64\n",
            "Latitude      float64\n",
            "Longitude     float64\n",
            "dtype: object\n",
            "\n",
            "**Missing Values:**\n",
            "MedInc        0\n",
            "HouseAge      0\n",
            "AveRooms      0\n",
            "AveBedrms     0\n",
            "Population    0\n",
            "AveOccup      0\n",
            "Latitude      0\n",
            "Longitude     0\n",
            "dtype: int64\n"
          ]
        },
        {
          "output_type": "display_data",
          "data": {
            "text/plain": [
              "<Figure size 640x480 with 1 Axes>"
            ],
            "image/png": "[encoded data removed]"
          },
          "metadata": {}
        },
        {
          "output_type": "display_data",
          "data": {
            "text/plain": [
              "<Figure size 640x480 with 1 Axes>"
            ],
            "image/png": "[encoded data removed]"
          },
          "metadata": {}
        }
      ]
    },
    {
      "cell_type": "code",
      "source": [],
      "metadata": {
        "id": "D6uSf8SC58Kt"
      },
      "execution_count": null,
      "outputs": []
    }
  ],
  "metadata": {
    "colab": {
      "collapsed_sections": [
        "6K8zKJX6JQP1",
        "LbanhbOcPNs-",
        "40ErfTiDW2yT",
        "gJBoxmu1ajZh",
        "ObwPm72AcCJU"
      ],
      "provenance": [],
      "include_colab_link": true
    },
    "kernelspec": {
      "display_name": "Python 3",
      "name": "python3"
    },
    "language_info": {
      "name": "python"
    }
  },
  "nbformat": 4,
  "nbformat_minor": 0
}